{
 "cells": [
  {
   "cell_type": "code",
   "execution_count": 1,
   "id": "2d21d868-6bf8-4fbf-ae18-9f41887900c5",
   "metadata": {},
   "outputs": [],
   "source": [
    "def aStarAlgo(start_node, stop_node):\n",
    "    open_set = set(start_node)\n",
    "    closed_set = set()\n",
    "    g = {}\n",
    "    parents = {}\n",
    "    \n",
    "    g[start_node] = 0\n",
    "    parents[start_node] = start_node\n",
    "    \n",
    "    while len(open_set) > 0:\n",
    "    \n",
    "        n = None\n",
    "\n",
    "        for v in open_set:\n",
    "            if n == None or g[v] + heuristic(v) < g[n] + heuristic(n):\n",
    "                n = v\n",
    "\n",
    "        if n == stop_node or Graph_nodes[n] == None:\n",
    "            pass\n",
    "        else:\n",
    "            for (m, weight) in get_neighbors(n):\n",
    "                if m not in open_set and m not in closed_set:\n",
    "                    open_set.add(m)\n",
    "                    parents[m] = n\n",
    "                    g[m] = g[n] + weight\n",
    "                else:\n",
    "                    if g[m] > g[n] + weight:\n",
    "                        g[m] = g[n] + weight\n",
    "                        parents[m] = n\n",
    "\n",
    "                        if m in closed_set:\n",
    "                            closed_set.remove(m)\n",
    "                            open_set.add(m)\n",
    "                            \n",
    "        if n == None:\n",
    "            print('Path does not exist!')\n",
    "            return None\n",
    "\n",
    "        if n == stop_node:\n",
    "            path = []\n",
    "\n",
    "            while parents[n] !=n:\n",
    "                path.append(n)\n",
    "                n = parents[n]\n",
    "\n",
    "            path.append(start_node)\n",
    "            path.reverse()\n",
    "\n",
    "            print('Path found: {}'.format(path))\n",
    "            return path\n",
    "\n",
    "        open_set.remove(n)\n",
    "        closed_set.add(n)\n",
    "    print('Path does not exist!')\n",
    "    return None            "
   ]
  },
  {
   "cell_type": "code",
   "execution_count": 2,
   "id": "692887c4-604c-46c1-8b8d-6ef2b884f3a5",
   "metadata": {},
   "outputs": [],
   "source": [
    "def get_neighbors(v):\n",
    "    if v in Graph_nodes:\n",
    "        return Graph_nodes[v]\n",
    "    else:\n",
    "        return None"
   ]
  },
  {
   "cell_type": "code",
   "execution_count": 3,
   "id": "e48bd653-5052-44ce-9b10-c45cc03f5bdb",
   "metadata": {},
   "outputs": [],
   "source": [
    "def heuristic(n:str):\n",
    "    H_dist = {\n",
    "        'A': 366,\n",
    "        'B': 0,\n",
    "        'C': 160,\n",
    "        'D': 242,\n",
    "        'E': 161,\n",
    "        'F': 178,\n",
    "        'I': 226,\n",
    "        'L': 244,\n",
    "        'M': 241,\n",
    "        'N': 234,\n",
    "        'O': 380,\n",
    "        'P': 98,\n",
    "        'R': 193,\n",
    "        'S': 253,\n",
    "        'T': 329,\n",
    "        'U': 80,\n",
    "        'V': 199,\n",
    "        'Z': 374,\n",
    "    }\n",
    "    return H_dist[n]"
   ]
  },
  {
   "cell_type": "code",
   "execution_count": 4,
   "id": "3ff39db8-40f2-455a-a601-e07c60ad9f8f",
   "metadata": {},
   "outputs": [
    {
     "name": "stdout",
     "output_type": "stream",
     "text": [
      "Path found: ['C', 'P', 'B']\n"
     ]
    },
    {
     "data": {
      "text/plain": [
       "['C', 'P', 'B']"
      ]
     },
     "execution_count": 4,
     "metadata": {},
     "output_type": "execute_result"
    }
   ],
   "source": [
    "Graph_nodes = {\n",
    "    'A' : [('S', 140), ('T', 118), ('Z', 75)],\n",
    "    'Z' : [('O', 71)],\n",
    "    'O' : [('S', 151)],\n",
    "    'S' : [('F', 99), ('R', 80)],\n",
    "    'R': [('P', 97)],\n",
    "    'P': [('B', 101)],\n",
    "    'F' : [('B', 211)],\n",
    "    'T' : [('L', 111)],\n",
    "    'L' : [('M', 70)],\n",
    "    'M': [('D', 75)],\n",
    "    'D': [('C', 120)],\n",
    "    'C': [('P', 138), ('R', 146)],\n",
    "    'G': [('B', 90)],\n",
    "    'U': [('B', 85)],\n",
    "    'V': [('U', 142)],\n",
    "    'H': [('U', 98)],\n",
    "    'E': [('H', 86)],\n",
    "    'I': [('V', 92)],\n",
    "    'N': [('I', 87)],\n",
    "}\n",
    "aStarAlgo('C', 'B')"
   ]
  }
 ],
 "metadata": {
  "kernelspec": {
   "display_name": "Python 3 (ipykernel)",
   "language": "python",
   "name": "python3"
  },
  "language_info": {
   "codemirror_mode": {
    "name": "ipython",
    "version": 3
   },
   "file_extension": ".py",
   "mimetype": "text/x-python",
   "name": "python",
   "nbconvert_exporter": "python",
   "pygments_lexer": "ipython3",
   "version": "3.11.0"
  }
 },
 "nbformat": 4,
 "nbformat_minor": 5
}
